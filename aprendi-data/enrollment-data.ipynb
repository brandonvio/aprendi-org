{
    "cells": [
        {
            "cell_type": "code",
            "execution_count": 34,
            "id": "03cc75f0-f5fe-4b49-9b1a-4529e450bd07",
            "metadata": {},
            "outputs": [],
            "source": [
                "from models.tables import OrganizationDataTable, OrganizationTable\n",
                "from models.course import CourseModel, CourseRepo\n",
                "from models.student import StudentModel, StudentRepo\n",
                "from models.teacher import TeacherModel, TeacherRepo\n",
                "from models.term import TermModel, TermRepo\n",
                "from models.term_schedule import TermScheduleModel, TermScheduleRepo\n",
                "from models.organization import OrganizationModel, OrganizationRepo\n",
                "from models.sentence import generate_random_sentence\n",
                "from collections import namedtuple"
            ]
        },
        {
            "cell_type": "code",
            "execution_count": 14,
            "id": "b0e11251",
            "metadata": {},
            "outputs": [],
            "source": [
                "if not OrganizationTable.exists():\n",
                "    OrganizationTable.create_table(read_capacity_units=1, write_capacity_units=1, wait=True)\n",
                "    OrganizationDataTable.create_table(read_capacity_units=1, write_capacity_units=1, wait=True)"
            ]
        },
        {
            "cell_type": "code",
            "execution_count": 15,
            "id": "492551cf",
            "metadata": {},
            "outputs": [],
            "source": [
                "for item in OrganizationDataTable.scan():\n",
                "    item.delete()"
            ]
        },
        {
            "cell_type": "code",
            "execution_count": 16,
            "id": "a53c84fd",
            "metadata": {},
            "outputs": [],
            "source": [
                "org_data = { \"id\":\"UCSD\", \"name\": \"University of California San Diego\" }\n",
                "teacher_data = [\n",
                "    \"100,Williams,Liam,1985-09-15,Masters of Science in Computer Science\",\n",
                "    \"101,Johnson,Olivia,1994-07-21,PhD in Linguistics\",\n",
                "    \"102,Smith,Noah,1988-03-10,Masters of Business Administration\",\n",
                "    \"103,Brown,Emma,1979-12-05,Masters of Science in Electrical Engineering\",\n",
                "    \"104,Jones,Lucas,1998-11-18,PhD in Psychology\"]\n",
                "student_data = [\n",
                "    \"100,Williams,Liam,1985-09-15\",\n",
                "    \"101,Johnson,Olivia,1994-07-21\",\n",
                "    \"102,Smith,Noah,1988-03-10\",\n",
                "    \"103,Brown,Emma,1979-12-05\",\n",
                "    \"104,Jones,Lucas,1998-11-18\"]\n",
                "course_data = [\n",
                "    \"100,Creative Writing,101\",\n",
                "    \"101,Biology,201\",\n",
                "    \"102,Chemistry,103\",\n",
                "    \"103,Physics,301\",\n",
                "    \"104,Mathematics,401\"]\n",
                "term_data = [(\"202303\", \"Fall 2023\"), (\"202304\", \"Winter 2023\"), (\"202401\", \"Spring 2024\"), (\"202402\", \"Summer 2024\")]\n",
                "\n"
            ]
        },
        {
            "cell_type": "code",
            "execution_count": 17,
            "id": "494c8ee1",
            "metadata": {},
            "outputs": [
                {
                    "name": "stdout",
                    "output_type": "stream",
                    "text": [
                        "org UCSD University of California San Diego\n"
                    ]
                }
            ],
            "source": [
                "org = OrganizationModel(id=org_data[\"id\"], name=org_data[\"name\"])\n",
                "org = OrganizationRepo.save(org)\n",
                "\n",
                "print(\"org\", org.id, org.name)\n",
                "\n",
                "for item in teacher_data:\n",
                "    id, first, last, dob, degree = item.split(\",\")\n",
                "    TeacherRepo.save(TeacherModel(id=id, first_name=first, last_name=last, dob=dob, degree=degree, org_id=org.id))\n",
                "\n",
                "for item in student_data:\n",
                "    id, first, last, dob = item.split(\",\")\n",
                "    StudentRepo.save(StudentModel(id=id, first_name=first, last_name=last, dob=dob, org_id=org.id))\n",
                "    \n",
                "for item in course_data:\n",
                "    id, course_name, section = item.split(\",\")\n",
                "    CourseRepo.save(CourseModel(id=id, name=course_name, section=section, description=generate_random_sentence(), org_id=org.id))\n",
                "    \n",
                "for item in term_data:\n",
                "    term_id, term_name = item\n",
                "    TermRepo.save(TermModel(term_id=term_id, term_name=term_name, org_id=org.id))"
            ]
        },
        {
            "cell_type": "code",
            "execution_count": 21,
            "id": "205da9dd",
            "metadata": {},
            "outputs": [
                {
                    "name": "stdout",
                    "output_type": "stream",
                    "text": [
                        "teacher 100 Williams Liam\n",
                        "teacher 101 Johnson Olivia\n",
                        "teacher 102 Smith Noah\n",
                        "teacher 103 Brown Emma\n",
                        "teacher 104 Jones Lucas\n",
                        "student 100 Williams\n",
                        "student 101 Johnson\n",
                        "student 102 Smith\n",
                        "student 103 Brown\n",
                        "student 104 Jones\n",
                        "course 100 Creative Writing\n",
                        "course 101 Biology\n",
                        "course 102 Chemistry\n",
                        "course 103 Physics\n",
                        "course 104 Mathematics\n",
                        "term 202303 Fall 2023\n",
                        "term 202304 Winter 2023\n",
                        "term 202401 Spring 2024\n",
                        "term 202402 Summer 2024\n"
                    ]
                }
            ],
            "source": [
                "for teacher in TeacherRepo.get_all(org_id=org.id):\n",
                "    print(\"teacher\", teacher.id, teacher.first_name, teacher.last_name)\n",
                "    \n",
                "for student in StudentRepo.get_all(org_id=org.id):\n",
                "    print(\"student\", student.id, student.first_name)\n",
                "\n",
                "for course in CourseRepo.get_all(org_id=org.id):\n",
                "    print(\"course\", course.id, course.name)\n",
                "    \n",
                "for term in TermRepo.get_all(org_id=org.id):\n",
                "    print(\"term\", term.term_id, term.term_name)\n"
            ]
        },
        {
            "cell_type": "code",
            "execution_count": 40,
            "id": "2a84390c",
            "metadata": {},
            "outputs": [],
            "source": [
                "term_schedule = { \n",
                "    \"org_id\": \"UCSD\",\n",
                "    \"term_id\": \"202303\",\n",
                "    \"courses\": [\n",
                "        { \"period\": \"1\", \"course_id\":\"100\", \"teacher_id\":\"100\" },\n",
                "        { \"period\": \"1\", \"course_id\":\"101\", \"teacher_id\":\"101\" },\n",
                "        { \"period\": \"1\", \"course_id\":\"102\", \"teacher_id\":\"102\" },\n",
                "        { \"period\": \"1\", \"course_id\":\"103\", \"teacher_id\":\"103\" },\n",
                "        { \"period\": \"1\", \"course_id\":\"104\", \"teacher_id\":\"104\" },\n",
                "        { \"period\": \"2\", \"course_id\":\"100\", \"teacher_id\":\"100\" },\n",
                "        { \"period\": \"2\", \"course_id\":\"101\", \"teacher_id\":\"101\" },\n",
                "        { \"period\": \"2\", \"course_id\":\"102\", \"teacher_id\":\"102\" },\n",
                "        { \"period\": \"2\", \"course_id\":\"103\", \"teacher_id\":\"103\" },\n",
                "        { \"period\": \"2\", \"course_id\":\"104\", \"teacher_id\":\"104\" },\n",
                "        { \"period\": \"3\", \"course_id\":\"100\", \"teacher_id\":\"100\" },\n",
                "        { \"period\": \"3\", \"course_id\":\"101\", \"teacher_id\":\"101\" },\n",
                "        { \"period\": \"3\", \"course_id\":\"102\", \"teacher_id\":\"102\" },\n",
                "        { \"period\": \"3\", \"course_id\":\"103\", \"teacher_id\":\"103\" },\n",
                "        { \"period\": \"3\", \"course_id\":\"104\", \"teacher_id\":\"104\" },\n",
                "        { \"period\": \"4\", \"course_id\":\"100\", \"teacher_id\":\"100\" },\n",
                "        { \"period\": \"4\", \"course_id\":\"101\", \"teacher_id\":\"101\" },\n",
                "        { \"period\": \"4\", \"course_id\":\"102\", \"teacher_id\":\"102\" },\n",
                "        { \"period\": \"4\", \"course_id\":\"103\", \"teacher_id\":\"103\" },\n",
                "        { \"period\": \"4\", \"course_id\":\"104\", \"teacher_id\":\"104\" },\n",
                "    ]\n",
                "}"
            ]
        },
        {
            "cell_type": "code",
            "execution_count": 42,
            "id": "f5fbf148",
            "metadata": {},
            "outputs": [],
            "source": [
                "Course = namedtuple('Course', ['period', 'course_id', 'teacher_id'])\n",
                "TermSchedule = namedtuple('TermSchedule', ['org_id', 'term_id', 'courses'])\n",
                "courses = [Course(**course_data) for course_data in term_schedule['courses']]\n",
                "term_schedule_namedtuple = TermSchedule(org_id=term_schedule['org_id'], term_id=term_schedule['term_id'], courses=courses)\n"
            ]
        },
        {
            "cell_type": "code",
            "execution_count": 44,
            "id": "f4514591",
            "metadata": {},
            "outputs": [],
            "source": [
                "def create_term_schedule(schedule: TermSchedule):\n",
                "    print(schedule)\n",
                "    pass"
            ]
        },
        {
            "cell_type": "code",
            "execution_count": 45,
            "id": "e6c842b4",
            "metadata": {},
            "outputs": [
                {
                    "name": "stdout",
                    "output_type": "stream",
                    "text": [
                        "TermSchedule(org_id='UCSD', term_id='202303', courses=[Course(period='1', course_id='100', teacher_id='100'), Course(period='1', course_id='101', teacher_id='101'), Course(period='1', course_id='102', teacher_id='102'), Course(period='1', course_id='103', teacher_id='103'), Course(period='1', course_id='104', teacher_id='104'), Course(period='2', course_id='100', teacher_id='100'), Course(period='2', course_id='101', teacher_id='101'), Course(period='2', course_id='102', teacher_id='102'), Course(period='2', course_id='103', teacher_id='103'), Course(period='2', course_id='104', teacher_id='104'), Course(period='3', course_id='100', teacher_id='100'), Course(period='3', course_id='101', teacher_id='101'), Course(period='3', course_id='102', teacher_id='102'), Course(period='3', course_id='103', teacher_id='103'), Course(period='3', course_id='104', teacher_id='104'), Course(period='4', course_id='100', teacher_id='100'), Course(period='4', course_id='101', teacher_id='101'), Course(period='4', course_id='102', teacher_id='102'), Course(period='4', course_id='103', teacher_id='103'), Course(period='4', course_id='104', teacher_id='104')])\n"
                    ]
                }
            ],
            "source": [
                "create_term_schedule(term_schedule_namedtuple)"
            ]
        },
        {
            "cell_type": "code",
            "execution_count": null,
            "id": "6c2f5cd8",
            "metadata": {},
            "outputs": [],
            "source": []
        }
    ],
    "metadata": {
        "kernelspec": {
            "display_name": "Python 3 (ipykernel)",
            "language": "python",
            "name": "python3"
        },
        "language_info": {
            "codemirror_mode": {
                "name": "ipython",
                "version": 3
            },
            "file_extension": ".py",
            "mimetype": "text/x-python",
            "name": "python",
            "nbconvert_exporter": "python",
            "pygments_lexer": "ipython3",
            "version": "3.11.4"
        }
    },
    "nbformat": 4,
    "nbformat_minor": 5
}
